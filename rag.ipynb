{
 "cells": [
  {
   "cell_type": "code",
   "execution_count": 1,
   "metadata": {},
   "outputs": [],
   "source": [
    "from app.loader import load_docs\n",
    "from app.splitter import TextSplitter, token_size"
   ]
  },
  {
   "cell_type": "code",
   "execution_count": 2,
   "metadata": {},
   "outputs": [
    {
     "name": "stderr",
     "output_type": "stream",
     "text": [
      "100%|██████████| 12/12 [00:45<00:00,  3.75s/it]"
     ]
    },
    {
     "name": "stdout",
     "output_type": "stream",
     "text": [
      "Loaded 11 PDF documents\n"
     ]
    },
    {
     "name": "stderr",
     "output_type": "stream",
     "text": [
      "\n"
     ]
    }
   ],
   "source": [
    "docs = load_docs()"
   ]
  },
  {
   "cell_type": "code",
   "execution_count": 3,
   "metadata": {},
   "outputs": [
    {
     "name": "stdout",
     "output_type": "stream",
     "text": [
      "Doc 1: 45366 tokens, 91 chunks\n",
      "Doc 2: 65671 tokens, 131 chunks\n",
      "Doc 3: 25519 tokens, 51 chunks\n",
      "Doc 4: 46689 tokens, 94 chunks\n",
      "Doc 5: 48980 tokens, 98 chunks\n",
      "Doc 6: 61540 tokens, 126 chunks\n",
      "Doc 7: 24178 tokens, 49 chunks\n",
      "Doc 8: 50730 tokens, 102 chunks\n",
      "Doc 9: 41999 tokens, 84 chunks\n",
      "Doc 10: 46333 tokens, 93 chunks\n",
      "Doc 11: 50055 tokens, 101 chunks\n",
      "\n",
      "Total chunks 1020\n"
     ]
    }
   ],
   "source": [
    "chunks = []\n",
    "text_splitter = TextSplitter(chunk_size=512)\n",
    "\n",
    "for i, doc in enumerate(docs):\n",
    "    doc_chunks = text_splitter(doc)\n",
    "    chunks += doc_chunks\n",
    "    print(f'Doc {i+1}: {token_size(doc)} tokens, {len(doc_chunks)} chunks')\n",
    "\n",
    "print('\\nTotal chunks', len(chunks))\n"
   ]
  },
  {
   "cell_type": "code",
   "execution_count": null,
   "metadata": {},
   "outputs": [],
   "source": []
  }
 ],
 "metadata": {
  "kernelspec": {
   "display_name": ".venv",
   "language": "python",
   "name": "python3"
  },
  "language_info": {
   "codemirror_mode": {
    "name": "ipython",
    "version": 3
   },
   "file_extension": ".py",
   "mimetype": "text/x-python",
   "name": "python",
   "nbconvert_exporter": "python",
   "pygments_lexer": "ipython3",
   "version": "3.12.3"
  }
 },
 "nbformat": 4,
 "nbformat_minor": 2
}
